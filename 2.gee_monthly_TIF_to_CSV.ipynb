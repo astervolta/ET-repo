{
 "cells": [
  {
   "cell_type": "code",
   "execution_count": 27,
   "id": "4ab97ec8",
   "metadata": {
    "scrolled": true
   },
   "outputs": [],
   "source": [
    "################################################################\n",
    "# Purpose: Read TIF satellite data \n",
    "# Author: Aster Volta\n",
    "# Date Modified: 08/11/22\n",
    "################################################################\n",
    "\n",
    "# Set up the libraries and modules\n",
    "#\n",
    "import pandas as pd\n",
    "import numpy as np\n",
    "import os\n",
    "import matplotlib.pyplot as plt\n",
    "\n",
    "import rasterio\n",
    "import seaborn as sns"
   ]
  },
  {
   "cell_type": "code",
   "execution_count": 28,
   "id": "b2f572d9",
   "metadata": {
    "scrolled": true
   },
   "outputs": [
    {
     "name": "stdout",
     "output_type": "stream",
     "text": [
      "monthmay\n"
     ]
    }
   ],
   "source": [
    "month = input('month')"
   ]
  },
  {
   "cell_type": "markdown",
   "id": "19113637",
   "metadata": {},
   "source": [
    "### Input file name and no data value:"
   ]
  },
  {
   "cell_type": "code",
   "execution_count": 29,
   "id": "97a82a72",
   "metadata": {},
   "outputs": [],
   "source": [
    "with rasterio.open('geemap_average_MODIS_ET_'+month+'2020.tif') as src:\n",
    "    array = src.read(1)\n",
    "\n",
    "array[array==0] = np.nan"
   ]
  },
  {
   "cell_type": "code",
   "execution_count": 30,
   "id": "3959737e",
   "metadata": {},
   "outputs": [
    {
     "data": {
      "text/plain": [
       "array([[nan, nan, nan, ..., nan, nan, nan],\n",
       "       [nan, nan, nan, ..., nan, nan, nan],\n",
       "       [nan, nan, nan, ..., nan, nan, nan],\n",
       "       ...,\n",
       "       [nan, nan, nan, ..., nan, nan, nan],\n",
       "       [nan, nan, nan, ..., nan, nan, nan],\n",
       "       [nan, nan, nan, ..., nan, nan, nan]])"
      ]
     },
     "execution_count": 30,
     "metadata": {},
     "output_type": "execute_result"
    }
   ],
   "source": [
    "array"
   ]
  },
  {
   "cell_type": "markdown",
   "id": "38aa2d13",
   "metadata": {},
   "source": [
    "## write file name below:"
   ]
  },
  {
   "cell_type": "code",
   "execution_count": 31,
   "id": "cf74ec3a",
   "metadata": {},
   "outputs": [],
   "source": [
    "filename_out = 'geemap_average_MODIS_ET_'+month+'2020.csv'"
   ]
  },
  {
   "cell_type": "code",
   "execution_count": 32,
   "id": "7bf315d5",
   "metadata": {},
   "outputs": [],
   "source": [
    "np.savetxt(str(filename_out), array, delimiter=\",\")"
   ]
  },
  {
   "cell_type": "markdown",
   "id": "74ffd7f4",
   "metadata": {},
   "source": [
    "##### THE END ⛅"
   ]
  }
 ],
 "metadata": {
  "kernelspec": {
   "display_name": "Python 3 (ipykernel)",
   "language": "python",
   "name": "python3"
  },
  "language_info": {
   "codemirror_mode": {
    "name": "ipython",
    "version": 3
   },
   "file_extension": ".py",
   "mimetype": "text/x-python",
   "name": "python",
   "nbconvert_exporter": "python",
   "pygments_lexer": "ipython3",
   "version": "3.9.5"
  }
 },
 "nbformat": 4,
 "nbformat_minor": 5
}
