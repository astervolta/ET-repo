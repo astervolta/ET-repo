{
 "cells": [
  {
   "cell_type": "markdown",
   "id": "1e5d6337",
   "metadata": {},
   "source": [
    "# MOD16A2.006: Terra Net Evapotranspiration 8-Day Global 500m"
   ]
  },
  {
   "cell_type": "markdown",
   "id": "793c104d",
   "metadata": {},
   "source": [
    "https://developers.google.com/earth-engine/datasets/catalog/MODIS_006_MOD16A2"
   ]
  },
  {
   "cell_type": "markdown",
   "id": "0999f6ff",
   "metadata": {},
   "source": [
    "## PART I: QUERY DATA FROM GEE SERVER"
   ]
  },
  {
   "cell_type": "code",
   "execution_count": 1,
   "id": "e3edde51",
   "metadata": {
    "scrolled": true
   },
   "outputs": [],
   "source": [
    "#installing dependencies\n",
    "import ee\n",
    "import geemap\n",
    "import os\n",
    "import numpy as np\n",
    "import matplotlib.pyplot as plt\n",
    "import pandas as pd\n",
    "import geopandas as gpd\n",
    "import seaborn as sns\n",
    "import matplotlib as mpl\n",
    "from pandas_profiling import ProfileReport"
   ]
  },
  {
   "cell_type": "code",
   "execution_count": 2,
   "id": "67696669",
   "metadata": {
    "scrolled": true
   },
   "outputs": [
    {
     "name": "stdout",
     "output_type": "stream",
     "text": [
      "destination_folder: D:\\Users\\aster\\Desktop\\dzud-types\\hoof-dzud\\ET\\ET-repo\n"
     ]
    }
   ],
   "source": [
    "#user select raw data destination folder\n",
    "destination_folder = input('destination_folder: ')"
   ]
  },
  {
   "cell_type": "code",
   "execution_count": 5,
   "id": "d5d95d93",
   "metadata": {
    "scrolled": true
   },
   "outputs": [],
   "source": [
    "#plot wold map\n",
    "Map = geemap.Map()"
   ]
  },
  {
   "cell_type": "code",
   "execution_count": 7,
   "id": "1eb6c7ad",
   "metadata": {
    "scrolled": true
   },
   "outputs": [
    {
     "data": {
      "application/vnd.jupyter.widget-view+json": {
       "model_id": "66d1e5995e034c969f581a1c2ae93e9e",
       "version_major": 2,
       "version_minor": 0
      },
      "text/plain": [
       "Map(bottom=6095.399993896484, center=[46.507466848985956, 100.61397975549423], controls=(WidgetControl(options…"
      ]
     },
     "metadata": {},
     "output_type": "display_data"
    }
   ],
   "source": [
    "#upload shapefile of AOE\n",
    "prefectures_shp = '../ET-repo/prefectures-v3.shp'\n",
    "prefectures = geemap.shp_to_ee(prefectures_shp)\n",
    "Map.addLayer(prefectures, {}, 'prefectures')\n",
    "Map"
   ]
  },
  {
   "cell_type": "markdown",
   "id": "4d8d0359",
   "metadata": {},
   "source": [
    "### Input DATE, GEE Snippet and band. Can also modify data bounds and map colors. "
   ]
  },
  {
   "cell_type": "code",
   "execution_count": 9,
   "id": "6e4525bd",
   "metadata": {
    "scrolled": true
   },
   "outputs": [
    {
     "data": {
      "application/vnd.jupyter.widget-view+json": {
       "model_id": "66d1e5995e034c969f581a1c2ae93e9e",
       "version_major": 2,
       "version_minor": 0
      },
      "text/plain": [
       "Map(bottom=3149.2000122070312, center=[47, 106], controls=(WidgetControl(options=['position', 'transparent_bg'…"
      ]
     },
     "metadata": {},
     "output_type": "display_data"
    }
   ],
   "source": [
    "#user input start year \n",
    "#end year automatically set to most current data\n",
    "\n",
    "start_date = str('2020-06-01')\n",
    "end_date = str('2020-09-01')\n",
    "    \n",
    "dataset = ee.ImageCollection('MODIS/006/MOD16A2')     .filterDate (start_date, end_date)     .map(lambda image: image.clip(prefectures)) \n",
    "et = dataset.select('ET')    \n",
    "etVis = {\n",
    "    'min': 0.0,\n",
    "    'max': 300.0,\n",
    "    'palette': ['ffffff', 'fcd163', '99b718', '66a000', '3e8601', '207401', '056201',\n",
    "    '004c00', '011301']    }\n",
    "Map.setCenter(106, 47, 4)\n",
    "Map.addLayer(et, etVis, 'ET-summer')\n",
    "Map"
   ]
  },
  {
   "cell_type": "markdown",
   "id": "665e8eeb",
   "metadata": {},
   "source": [
    "### Monthly Mean. Input desired variables."
   ]
  },
  {
   "cell_type": "code",
   "execution_count": 11,
   "id": "3a39cc71",
   "metadata": {
    "scrolled": false
   },
   "outputs": [
    {
     "data": {
      "application/vnd.jupyter.widget-view+json": {
       "model_id": "66d1e5995e034c969f581a1c2ae93e9e",
       "version_major": 2,
       "version_minor": 0
      },
      "text/plain": [
       "Map(bottom=3182.0, center=[46.98025235521883, 105.99609375000001], controls=(WidgetControl(options=['position'…"
      ]
     },
     "metadata": {},
     "output_type": "display_data"
    }
   ],
   "source": [
    "summer_et = et.reduce(ee.Reducer.mean())\n",
    "Map.addLayer(summer_et, etVis, 'summer_et_mean')\n",
    "Map"
   ]
  },
  {
   "cell_type": "code",
   "execution_count": 12,
   "id": "fddbb68a",
   "metadata": {
    "scrolled": true
   },
   "outputs": [
    {
     "data": {
      "text/plain": [
       "<ee.image.Image at 0x22718cd2460>"
      ]
     },
     "execution_count": 12,
     "metadata": {},
     "output_type": "execute_result"
    }
   ],
   "source": [
    "summer_et"
   ]
  },
  {
   "cell_type": "code",
   "execution_count": 13,
   "id": "1905b9f5",
   "metadata": {
    "scrolled": false
   },
   "outputs": [
    {
     "data": {
      "text/plain": [
       "{'type': 'Image',\n",
       " 'bands': [{'id': 'ET_mean',\n",
       "   'data_type': {'type': 'PixelType',\n",
       "    'precision': 'double',\n",
       "    'min': -32768,\n",
       "    'max': 32767},\n",
       "   'crs': 'EPSG:4326',\n",
       "   'crs_transform': [1, 0, 0, 0, 1, 0]}]}"
      ]
     },
     "execution_count": 13,
     "metadata": {},
     "output_type": "execute_result"
    }
   ],
   "source": [
    "summer_et.getInfo()"
   ]
  },
  {
   "cell_type": "markdown",
   "id": "1560581c",
   "metadata": {},
   "source": [
    "### to TIF"
   ]
  },
  {
   "cell_type": "markdown",
   "id": "4ded0a26",
   "metadata": {},
   "source": [
    "##### Change file name:"
   ]
  },
  {
   "cell_type": "code",
   "execution_count": 15,
   "id": "e0fde1d8",
   "metadata": {
    "scrolled": false
   },
   "outputs": [
    {
     "name": "stdout",
     "output_type": "stream",
     "text": [
      "Generating URL ...\n",
      "Downloading data from https://earthengine.googleapis.com/v1alpha/projects/earthengine-legacy/thumbnails/35e6f13663cd51d0b2cdd411203938bc-855a552db8661c8add69f716eb409f0c:getPixels\n",
      "Please wait ...\n",
      "Data downloaded to D:\\Users\\aster\\Desktop\\dzud-types\\hoof-dzud\\ET\\ET-repo\\geemap_average_MODIS_ET_summer2020.tif\n"
     ]
    }
   ],
   "source": [
    "feature = prefectures\n",
    "roi = feature.geometry()\n",
    "out_dir = os.path.join(os.path.expanduser('~'), destination_folder)\n",
    "filename = os.path.join(out_dir, 'geemap_average_MODIS_ET_summer2020.tif')\n",
    "image = monthly_et\n",
    "geemap.ee_export_image(image, filename=filename, scale=1000, region=roi)"
   ]
  },
  {
   "cell_type": "markdown",
   "id": "51862ccd",
   "metadata": {},
   "source": [
    "### CONT. TO NOTEBOOK 2. TIF to CSV"
   ]
  },
  {
   "cell_type": "markdown",
   "id": "999a4bfe",
   "metadata": {},
   "source": [
    "zonal statistics by province csv table"
   ]
  },
  {
   "cell_type": "code",
   "execution_count": 16,
   "id": "79075c41",
   "metadata": {},
   "outputs": [
    {
     "name": "stdout",
     "output_type": "stream",
     "text": [
      "Computing statistics ...\n",
      "Generating URL ...\n",
      "Downloading data from https://earthengine.googleapis.com/v1alpha/projects/earthengine-legacy/tables/68d2cc24fb5dff037dc028af6c5ba50f-05dce20e91b37cb28368a0a6df9125ea:getFeatures\n",
      "Please wait ...\n",
      "Data downloaded to D:\\Users\\aster\\Desktop\\dzud-types\\hoof-dzud\\ET\\ET-repo\\et_stats_summer2020.csv\n"
     ]
    }
   ],
   "source": [
    "out_dir = os.path.join(os.path.expanduser('~'), destination_folder)\n",
    "out_et_stats = os.path.join(out_dir, 'et_stats_summer2020.csv')  \n",
    "\n",
    "if not os.path.exists(out_dir):\n",
    "    os.makedirs(out_dir)\n",
    "\n",
    "# Allowed output formats: csv, shp, json, kml, kmz\n",
    "# Allowed statistics type: MEAN, MAXIMUM, MINIMUM, MEDIAN, STD, MIN_MAX, VARIANCE, SUM\n",
    "geemap.zonal_statistics(summer_et, prefectures, out_et_stats, statistics_type='MEAN', scale=1000)"
   ]
  },
  {
   "cell_type": "markdown",
   "id": "6765bc79",
   "metadata": {},
   "source": [
    "##### THE END 👍🏽"
   ]
  }
 ],
 "metadata": {
  "kernelspec": {
   "display_name": "Python 3 (ipykernel)",
   "language": "python",
   "name": "python3"
  },
  "language_info": {
   "codemirror_mode": {
    "name": "ipython",
    "version": 3
   },
   "file_extension": ".py",
   "mimetype": "text/x-python",
   "name": "python",
   "nbconvert_exporter": "python",
   "pygments_lexer": "ipython3",
   "version": "3.8.12"
  }
 },
 "nbformat": 4,
 "nbformat_minor": 5
}
